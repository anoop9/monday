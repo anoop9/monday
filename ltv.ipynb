{
 "cells": [
  {
   "cell_type": "code",
   "execution_count": null,
   "id": "edbf7b52-3968-4dae-977b-344f6c808068",
   "metadata": {},
   "outputs": [],
   "source": [
    "\n",
    "import pandas as pd\n",
    "import numpy as np\n",
    "import matplotlib.pyplot as plt\n",
    "from sklearn.linear_model import LinearRegression\n",
    "\n",
    "# Load and filter data for US, Fruit Battle, Dec 1-15, 2021\n",
    "df = pd.read_csv('summary.csv')\n",
    "us = df[(df['client'] == 'fruit_battle') & (df['country'] == 'US')]\n",
    "\n",
    "# Prepare ARPI points and fit regression\n",
    "X = np.array([[1], [14]])\n",
    "arpi_d1 = us['arpi_d1'].mean()\n",
    "arpi_d14 = us['arpi_d14'].mean()\n",
    "y = [arpi_d1, arpi_d14]\n",
    "reg = LinearRegression().fit(X, y)\n",
    "ltv = reg.predict([[28]])[0]\n",
    "\n",
    "# Plot\n",
    "plt.scatter([1, 14], y, color='blue', label='Observed ARPI')\n",
    "plt.plot([1, 14, 28], reg.predict(np.array([[1],[14],[28]])), 'r-', label='Regression')\n",
    "plt.scatter([28], [ltv], color='green', label=f'LTV (Day 28): {ltv:.3f}')\n",
    "plt.title('US ARPI Regression & LTV Estimate')\n",
    "plt.xlabel('Day'); plt.ylabel('ARPI'); plt.legend(); plt.grid(True); plt.show()\n",
    "\n",
    "print(f\"Mean ARPI_D1: {arpi_d1:.3f}\")\n",
    "print(f\"Mean ARPI_D14: {arpi_d14:.3f}\")\n",
    "print(f\"Estimated LTV (ARPI_D28) for US: {ltv:.3f}\")"
   ]
  },
  {
   "cell_type": "code",
   "execution_count": null,
   "id": "701027ca-4228-4165-8821-a203ea8d1fa7",
   "metadata": {},
   "outputs": [],
   "source": []
  }
 ],
 "metadata": {
  "kernelspec": {
   "display_name": "Python 3 (ipykernel)",
   "language": "python",
   "name": "python3"
  },
  "language_info": {
   "codemirror_mode": {
    "name": "ipython",
    "version": 3
   },
   "file_extension": ".py",
   "mimetype": "text/x-python",
   "name": "python",
   "nbconvert_exporter": "python",
   "pygments_lexer": "ipython3",
   "version": "3.13.3"
  }
 },
 "nbformat": 4,
 "nbformat_minor": 5
}
